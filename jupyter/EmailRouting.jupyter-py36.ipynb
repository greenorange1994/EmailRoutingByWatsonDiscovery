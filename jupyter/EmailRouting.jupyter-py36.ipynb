{
 "cells": [
  {
   "cell_type": "code",
   "execution_count": 8,
   "metadata": {},
   "outputs": [
    {
     "name": "stdout",
     "output_type": "stream",
     "text": [
      "Collecting python-docx\n",
      "\u001b[?25l  Downloading https://files.pythonhosted.org/packages/e4/83/c66a1934ed5ed8ab1dbb9931f1779079f8bca0f6bbc5793c06c4b5e7d671/python-docx-0.8.10.tar.gz (5.5MB)\n",
      "\u001b[K     |████████████████████████████████| 5.5MB 712kB/s eta 0:00:01     |█▋                              | 286kB 712kB/s eta 0:00:08\n",
      "\u001b[?25hRequirement already satisfied: lxml>=2.3.2 in /opt/conda3/lib/python3.6/site-packages (from python-docx) (4.3.3)\n",
      "Building wheels for collected packages: python-docx\n",
      "  Building wheel for python-docx (setup.py) ... \u001b[?25ldone\n",
      "\u001b[?25h  Stored in directory: /user-home/1014/.cache/pip/wheels/18/0b/a0/1dd62ff812c857c9e487f27d80d53d2b40531bec1acecfa47b\n",
      "Successfully built python-docx\n",
      "Installing collected packages: python-docx\n",
      "Successfully installed python-docx-0.8.10\n"
     ]
    }
   ],
   "source": [
    "!pip install python-docx "
   ]
  },
  {
   "cell_type": "markdown",
   "metadata": {},
   "source": [
    "## 1. Generate trade demands and save to word documents"
   ]
  },
  {
   "cell_type": "code",
   "execution_count": 1,
   "metadata": {},
   "outputs": [],
   "source": [
    "import random\n",
    "\n",
    "action_lst = ['sell', 'buy']\n",
    "n_action = len(action_lst)\n",
    "dealer_lst = ['bank of america', 'boa', 'bofa', 'bac', 'BAR', 'barclay']\n",
    "n_dealer = len(dealer_lst)"
   ]
  },
  {
   "cell_type": "code",
   "execution_count": 2,
   "metadata": {},
   "outputs": [],
   "source": [
    "f_content_lst = []\n",
    "for i in range(100):\n",
    "    try:\n",
    "        with open('../datasets/' + str(i+1) + '.', 'r') as f:\n",
    "            data = f.readlines()\n",
    "            action = action_lst[random.randint(0, n_action-1)]\n",
    "            dealer = dealer_lst[random.randint(0, n_dealer-1)]\n",
    "            content = ' ' + action + ' ' + dealer\n",
    "            data.append(content)\n",
    "            f_content_lst.append(data)\n",
    "    except:\n",
    "        continue"
   ]
  },
  {
   "cell_type": "code",
   "execution_count": 5,
   "metadata": {},
   "outputs": [],
   "source": [
    "#write into txt file\n",
    "for i, content in enumerate(f_content_lst):\n",
    "    with open('../datasets/' + str(i+1) + '.txt', 'w') as f:\n",
    "        for line in content:\n",
    "            f.write(line)"
   ]
  },
  {
   "cell_type": "code",
   "execution_count": 14,
   "metadata": {},
   "outputs": [],
   "source": [
    "#convert txt to doc file\n",
    "from docx import Document\n",
    "import re\n",
    "import os\n",
    "\n",
    "path = '../datasets/'\n",
    "direct = os.listdir(path)[1:]\n",
    "\n",
    "direct = [file for file in direct if 'txt' in file]\n",
    "\n",
    "for i in direct:\n",
    "    document = Document()\n",
    "    document.add_heading(i, 0)\n",
    "    myfile = open('../datasets/'+i).read()\n",
    "    myfile = re.sub(r'[^\\x00-\\x7F]+|\\x0c',' ', myfile) # remove all non-XML-compatible characters\n",
    "    p = document.add_paragraph(myfile)\n",
    "    document.save('../datasets/'+i.split('.')[0]+'.docx')"
   ]
  },
  {
   "cell_type": "markdown",
   "metadata": {},
   "source": [
    "## 2. Connect to Watson Discovery"
   ]
  },
  {
   "cell_type": "code",
   "execution_count": 15,
   "metadata": {},
   "outputs": [
    {
     "name": "stdout",
     "output_type": "stream",
     "text": [
      "Collecting ibm-watson>=3.2.0\n",
      "Requirement already satisfied, skipping upgrade: requests<3.0,>=2.0 in /opt/conda3/lib/python3.6/site-packages (from ibm-watson>=3.2.0) (2.22.0)\n",
      "Collecting websocket-client==0.48.0 (from ibm-watson>=3.2.0)\n",
      "  Using cached https://files.pythonhosted.org/packages/8a/a1/72ef9aa26cfe1a75cee09fc1957e4723add9de098c15719416a1ee89386b/websocket_client-0.48.0-py2.py3-none-any.whl\n",
      "Requirement already satisfied, skipping upgrade: python-dateutil>=2.5.3 in /opt/conda3/lib/python3.6/site-packages (from ibm-watson>=3.2.0) (2.8.0)\n",
      "Collecting ibm-cloud-sdk-core>=0.5.1 (from ibm-watson>=3.2.0)\n",
      "Requirement already satisfied, skipping upgrade: idna<2.9,>=2.5 in /opt/conda3/lib/python3.6/site-packages (from requests<3.0,>=2.0->ibm-watson>=3.2.0) (2.8)\n",
      "Requirement already satisfied, skipping upgrade: chardet<3.1.0,>=3.0.2 in /opt/conda3/lib/python3.6/site-packages (from requests<3.0,>=2.0->ibm-watson>=3.2.0) (3.0.4)\n",
      "Requirement already satisfied, skipping upgrade: urllib3!=1.25.0,!=1.25.1,<1.26,>=1.21.1 in /opt/conda3/lib/python3.6/site-packages (from requests<3.0,>=2.0->ibm-watson>=3.2.0) (1.24.3)\n",
      "Requirement already satisfied, skipping upgrade: certifi>=2017.4.17 in /opt/conda3/lib/python3.6/site-packages (from requests<3.0,>=2.0->ibm-watson>=3.2.0) (2019.3.9)\n",
      "Requirement already satisfied, skipping upgrade: six in /opt/conda3/lib/python3.6/site-packages (from websocket-client==0.48.0->ibm-watson>=3.2.0) (1.12.0)\n",
      "Requirement already satisfied, skipping upgrade: PyJWT>=1.7.1 in /opt/conda3/lib/python3.6/site-packages (from ibm-cloud-sdk-core>=0.5.1->ibm-watson>=3.2.0) (1.7.1)\n",
      "Installing collected packages: websocket-client, ibm-cloud-sdk-core, ibm-watson\n",
      "Successfully installed ibm-cloud-sdk-core-0.5.1 ibm-watson-3.4.1 websocket-client-0.48.0\n"
     ]
    }
   ],
   "source": [
    "!pip install --upgrade \"ibm-watson>=3.2.0\""
   ]
  },
  {
   "cell_type": "code",
   "execution_count": 16,
   "metadata": {},
   "outputs": [],
   "source": [
    "from ibm_watson import DiscoveryV1\n",
    "\n",
    "discovery = DiscoveryV1(\n",
    "    version='2019-08-21',\n",
    "    username='***',\n",
    "    password='***',\n",
    "    icp4d_url='***',\n",
    "    authentication_type='icp4d',\n",
    "    url='***'\n",
    ")\n",
    "\n",
    "discovery.disable_SSL_verification()"
   ]
  },
  {
   "cell_type": "code",
   "execution_count": 17,
   "metadata": {},
   "outputs": [
    {
     "name": "stderr",
     "output_type": "stream",
     "text": [
      "/opt/conda/lib/python3.6/site-packages/urllib3/connectionpool.py:847: InsecureRequestWarning: Unverified HTTPS request is being made. Adding certificate verification is strongly advised. See: https://urllib3.readthedocs.io/en/latest/advanced-usage.html#ssl-warnings\n",
      "  InsecureRequestWarning)\n",
      "/opt/conda/lib/python3.6/site-packages/urllib3/connectionpool.py:847: InsecureRequestWarning: Unverified HTTPS request is being made. Adding certificate verification is strongly advised. See: https://urllib3.readthedocs.io/en/latest/advanced-usage.html#ssl-warnings\n",
      "  InsecureRequestWarning)\n"
     ]
    },
    {
     "data": {
      "text/plain": [
       "{'environments': [{'environment_id': 'default',\n",
       "   'name': 'default environment',\n",
       "   'description': 'default environment',\n",
       "   'index_capacity': None}]}"
      ]
     },
     "execution_count": 17,
     "metadata": {},
     "output_type": "execute_result"
    }
   ],
   "source": [
    "environments = discovery.list_environments().get_result()\n",
    "environments"
   ]
  },
  {
   "cell_type": "code",
   "execution_count": 18,
   "metadata": {},
   "outputs": [
    {
     "name": "stderr",
     "output_type": "stream",
     "text": [
      "/opt/conda/lib/python3.6/site-packages/urllib3/connectionpool.py:847: InsecureRequestWarning: Unverified HTTPS request is being made. Adding certificate verification is strongly advised. See: https://urllib3.readthedocs.io/en/latest/advanced-usage.html#ssl-warnings\n",
      "  InsecureRequestWarning)\n"
     ]
    },
    {
     "data": {
      "text/plain": [
       "{'collections': [{'name': 'Search WEX Install Manual',\n",
       "   'collection_id': 'e11b944f-8891-79cd-0000-016cde77002f',\n",
       "   'description': None,\n",
       "   'created': '2019-08-29T17:40:38.267Z',\n",
       "   'updated': '2019-08-29T17:40:38.267Z',\n",
       "   'configuration_id': 'e11b944f-8891-79cd-0000-016cde76fe89',\n",
       "   'language': 'en'},\n",
       "  {'name': 'food-reviews',\n",
       "   'collection_id': 'e11b944f-8891-79cd-0000-016cdf2d152a',\n",
       "   'description': None,\n",
       "   'created': '2019-08-29T20:59:30.126Z',\n",
       "   'updated': '2019-08-29T20:59:30.126Z',\n",
       "   'configuration_id': 'e11b944f-8891-79cd-0000-016cdf2d1472',\n",
       "   'language': 'en'},\n",
       "  {'name': 'CFPB',\n",
       "   'collection_id': 'e11b944f-8891-79cd-0000-016ce3b39b02',\n",
       "   'description': None,\n",
       "   'created': '2019-08-30T18:04:55.068Z',\n",
       "   'updated': '2019-08-30T18:04:55.068Z',\n",
       "   'configuration_id': 'e11b944f-8891-79cd-0000-016ce3b39a32',\n",
       "   'language': 'en'},\n",
       "  {'name': 'Enron-Email',\n",
       "   'collection_id': 'e11b944f-8891-79cd-0000-016d82996134',\n",
       "   'description': None,\n",
       "   'created': '2019-09-30T14:35:57.235Z',\n",
       "   'updated': '2019-09-30T14:35:57.235Z',\n",
       "   'configuration_id': 'e11b944f-8891-79cd-0000-016d82995bd7',\n",
       "   'language': 'en'}]}"
      ]
     },
     "execution_count": 18,
     "metadata": {},
     "output_type": "execute_result"
    }
   ],
   "source": [
    "env_id = 'default'\n",
    "collections = discovery.list_collections(env_id).get_result()\n",
    "collections"
   ]
  },
  {
   "cell_type": "code",
   "execution_count": 19,
   "metadata": {},
   "outputs": [
    {
     "name": "stderr",
     "output_type": "stream",
     "text": [
      "/opt/conda/lib/python3.6/site-packages/urllib3/connectionpool.py:847: InsecureRequestWarning: Unverified HTTPS request is being made. Adding certificate verification is strongly advised. See: https://urllib3.readthedocs.io/en/latest/advanced-usage.html#ssl-warnings\n",
      "  InsecureRequestWarning)\n"
     ]
    }
   ],
   "source": [
    "import json\n",
    "query_results = discovery.query(env_id, collections['collections'][3]['collection_id'], return_fields='enriched_text', count = 93).get_result()\n",
    "\n"
   ]
  },
  {
   "cell_type": "code",
   "execution_count": 20,
   "metadata": {},
   "outputs": [
    {
     "data": {
      "text/plain": [
       "{'matching_results': 93,\n",
       " 'retrieval_details': {'document_retrieval_strategy': 'untrained'},\n",
       " 'results': [{'document_id': '074208ef9f5d8b1321a7c3661713547d',\n",
       "   'enriched_text': [{'entities': [{'path': '.company',\n",
       "       'text': 'BAR',\n",
       "       'type': 'company'}]}]},\n",
       "  {'document_id': '0579459bd33d051a8b9d0dede2fbb1f7',\n",
       "   'enriched_text': [{'entities': [{'path': '.company',\n",
       "       'text': 'BAR',\n",
       "       'type': 'company'}]}]},\n",
       "  {'document_id': '073d80baf72efc914c00e3c11f61206d'},\n",
       "  {'document_id': '1a4b7d17b4450ff5a72cdb18704cdd70',\n",
       "   'enriched_text': [{'entities': [{'path': '.company',\n",
       "       'text': 'BAR',\n",
       "       'type': 'company'}]}]},\n",
       "  {'document_id': '0f321004adf3484648f4e9a2d79498da',\n",
       "   'enriched_text': [{'entities': [{'path': '.company',\n",
       "       'text': 'bank of america',\n",
       "       'type': 'company'}]}]},\n",
       "  {'document_id': '0ea8afd89fe1223afd5e0fec644a78dc',\n",
       "   'enriched_text': [{'entities': [{'path': '.company',\n",
       "       'text': 'bank of america',\n",
       "       'type': 'company'}]}]},\n",
       "  {'document_id': '17d156b628f96ef763acb787da716b15'},\n",
       "  {'document_id': '085078ddab33f3e63c539e7182348c9a',\n",
       "   'enriched_text': [{'entities': [{'path': '.company',\n",
       "       'text': 'BAR',\n",
       "       'type': 'company'}]}]},\n",
       "  {'document_id': '1d768ca939665afb8b46daac49504ac7',\n",
       "   'enriched_text': [{'entities': [{'path': '.company',\n",
       "       'text': 'BAR',\n",
       "       'type': 'company'}]}]},\n",
       "  {'document_id': '19eccf666c82d1e8bf7f00182101473e'},\n",
       "  {'document_id': '15d4734d9fe8f5c5c754461d0275bd13'},\n",
       "  {'document_id': '0c128f3ce481591d86c00d1ac586a1c4'},\n",
       "  {'document_id': '0d2da0a34320890c60791b7d20f2b414'},\n",
       "  {'document_id': '371aa13a8a6f9d80acd5461a4c18f67b',\n",
       "   'enriched_text': [{'entities': [{'path': '.company',\n",
       "       'text': 'bank of america',\n",
       "       'type': 'company'}]}]},\n",
       "  {'document_id': '2cc58e75bf60c785e0e1f2e960f675f8',\n",
       "   'enriched_text': [{'entities': [{'path': '.company',\n",
       "       'text': 'BAR',\n",
       "       'type': 'company'}]}]},\n",
       "  {'document_id': '37b3d13f98bdf449f41163e02eee12fc',\n",
       "   'enriched_text': [{'entities': [{'path': '.company',\n",
       "       'text': 'BAR',\n",
       "       'type': 'company'}]}]},\n",
       "  {'document_id': '390d62751561656bbd12b60f993bd0fb',\n",
       "   'enriched_text': [{'entities': [{'path': '.company',\n",
       "       'text': 'BAR',\n",
       "       'type': 'company'}]}]},\n",
       "  {'document_id': '26a0f934b57a4cd2a22c6293149528cb',\n",
       "   'enriched_text': [{'entities': [{'path': '.company',\n",
       "       'text': 'bank of america',\n",
       "       'type': 'company'}]}]},\n",
       "  {'document_id': '244dfd6171cad6c7616e88ec0df7ec09',\n",
       "   'enriched_text': [{'entities': [{'path': '.company',\n",
       "       'text': 'BAR',\n",
       "       'type': 'company'}]}]},\n",
       "  {'document_id': '2bd75b629e353c58c151ac0fb76113c2'},\n",
       "  {'document_id': '22a75c7cd3c66dcdf830769d880dff2c'},\n",
       "  {'document_id': '1a8381737e8518bbb0c73efb0c3cfecf'},\n",
       "  {'document_id': '2b7fee111d4c0e2efe8b1551f51aa148'},\n",
       "  {'document_id': '2cacaf8f7feed47c7adc9eb9c582fafe'},\n",
       "  {'document_id': '587f128064d94533715560371f4fd9c7',\n",
       "   'enriched_text': [{'entities': [{'path': '.company',\n",
       "       'text': 'BAR',\n",
       "       'type': 'company'}]}]},\n",
       "  {'document_id': '5ac41c9c46d11f36401224e0bd848122',\n",
       "   'enriched_text': [{'entities': [{'path': '.company',\n",
       "       'text': 'bank of america',\n",
       "       'type': 'company'}]}]},\n",
       "  {'document_id': '647e22774059de1d0401c842eccdaa5f',\n",
       "   'enriched_text': [{'entities': [{'path': '.company',\n",
       "       'text': 'BAR',\n",
       "       'type': 'company'}]}]},\n",
       "  {'document_id': '432aea026f57582c8c25b85d7364c446',\n",
       "   'enriched_text': [{'entities': [{'path': '.company',\n",
       "       'text': 'BAR',\n",
       "       'type': 'company'}]}]},\n",
       "  {'document_id': '409863c9aac3296f7a56c815f02e5525'},\n",
       "  {'document_id': '4c0109a2188bbcb4cfb0a1e513fb7d5c'},\n",
       "  {'document_id': '518a55e8f736d819cc42c1c4dbcea2e9',\n",
       "   'enriched_text': [{'entities': [{'path': '.company',\n",
       "       'text': 'BAR',\n",
       "       'type': 'company'}]}]},\n",
       "  {'document_id': '5a841501df4d905b239af6417c8ab34c'},\n",
       "  {'document_id': '3cb44fb0dbbd2dc7ad55ea988dc345c4',\n",
       "   'enriched_text': [{'entities': [{'path': '.company',\n",
       "       'text': 'bank of america',\n",
       "       'type': 'company'}]}]},\n",
       "  {'document_id': '3aa432949cafaa40397e957a3e083363',\n",
       "   'enriched_text': [{'entities': [{'path': '.company',\n",
       "       'text': 'BAR',\n",
       "       'type': 'company'}]}]},\n",
       "  {'document_id': '4e1324b3209c26c7763fd9ef0e4e53ba',\n",
       "   'enriched_text': [{'entities': [{'path': '.company',\n",
       "       'text': 'BAR',\n",
       "       'type': 'company'}]}]},\n",
       "  {'document_id': '6472a14cf453338983af242eb4c2d7d3'},\n",
       "  {'document_id': '6c28ccda8830bcd7fab534ab703fa97f'},\n",
       "  {'document_id': '6970b083210dfb298fefad92438482bc',\n",
       "   'enriched_text': [{'entities': [{'path': '.company',\n",
       "       'text': 'BAR',\n",
       "       'type': 'company'}]}]},\n",
       "  {'document_id': '6edb89e3cfab398eb51fe04d57b09fba'},\n",
       "  {'document_id': '6fa06f718dda3db93a5f1fba159685dd',\n",
       "   'enriched_text': [{'entities': [{'path': '.company',\n",
       "       'text': 'bank of america',\n",
       "       'type': 'company'}]}]},\n",
       "  {'document_id': '7613e91132a275e912800bc659a79f54',\n",
       "   'enriched_text': [{'entities': [{'path': '.company',\n",
       "       'text': 'BAR',\n",
       "       'type': 'company'}]}]},\n",
       "  {'document_id': '7f15c8f5fb3be5bed0b9f1e9c6ca52f4',\n",
       "   'enriched_text': [{'entities': [{'path': '.company',\n",
       "       'text': 'BAR',\n",
       "       'type': 'company'}]}]},\n",
       "  {'document_id': '7177c26f54b305350b462aeb31bab6ff',\n",
       "   'enriched_text': [{'entities': [{'path': '.company',\n",
       "       'text': 'BAR',\n",
       "       'type': 'company'}]}]},\n",
       "  {'document_id': '6c907f935edfbc3c087abc40f6c058a5',\n",
       "   'enriched_text': [{'entities': [{'path': '.company',\n",
       "       'text': 'bank of america',\n",
       "       'type': 'company'}]}]},\n",
       "  {'document_id': '77c972b7f5dec69f694fe267a0977927',\n",
       "   'enriched_text': [{'entities': [{'path': '.company',\n",
       "       'text': 'BAR',\n",
       "       'type': 'company'}]}]},\n",
       "  {'document_id': '69d69ce3ab13471a2bb24eb371878ea9',\n",
       "   'enriched_text': [{'entities': [{'path': '.company',\n",
       "       'text': 'bank of america',\n",
       "       'type': 'company'}]}]},\n",
       "  {'document_id': '91cd1cc0b73fdda8952527e5dc24c5fe'},\n",
       "  {'document_id': '96b19064f05fd95059b6051e684998d7'},\n",
       "  {'document_id': '8feea8225c53ceb73f1d4b1a0c336bc9',\n",
       "   'enriched_text': [{'entities': [{'path': '.company',\n",
       "       'text': 'bank of america',\n",
       "       'type': 'company'}]}]},\n",
       "  {'document_id': 'a13d5dac7d364f6798d58b6e2734883e'},\n",
       "  {'document_id': '9a2e64fca2416d707331c38e0086ecc4'},\n",
       "  {'document_id': '919e1d32795822d803b941fc94ebed0f'},\n",
       "  {'document_id': '8f665763d974813865a6896176c9e8ac',\n",
       "   'enriched_text': [{'entities': [{'path': '.company',\n",
       "       'text': 'bank of america',\n",
       "       'type': 'company'}]}]},\n",
       "  {'document_id': '85e0d7539a7a69f8a2f38efb03fc56e2',\n",
       "   'enriched_text': [{'entities': [{'path': '.company',\n",
       "       'text': 'BAR',\n",
       "       'type': 'company'}]}]},\n",
       "  {'document_id': '8c14df11685f50868984ee551759bc35'},\n",
       "  {'document_id': '7a7cbd22e4fc0638c86be706dd89e1e8',\n",
       "   'enriched_text': [{'entities': [{'path': '.company',\n",
       "       'text': 'BAR',\n",
       "       'type': 'company'}]}]},\n",
       "  {'document_id': '7b73c9be878bfa640f9a3894025aa859',\n",
       "   'enriched_text': [{'entities': [{'path': '.company',\n",
       "       'text': 'bank of america',\n",
       "       'type': 'company'}]}]},\n",
       "  {'document_id': '82f85116f7e6f3df0640d9d299382523',\n",
       "   'enriched_text': [{'entities': [{'path': '.company',\n",
       "       'text': 'BAR',\n",
       "       'type': 'company'}]}]},\n",
       "  {'document_id': '96fc5c2dde545651f4f4cc3655b2946c',\n",
       "   'enriched_text': [{'entities': [{'path': '.company',\n",
       "       'text': 'bank of america',\n",
       "       'type': 'company'}]}]},\n",
       "  {'document_id': '9697c16e2bd8b740c081a8eff9cfd596'},\n",
       "  {'document_id': 'a5261e97c34cba225daa9ab64976b698',\n",
       "   'enriched_text': [{'entities': [{'path': '.company',\n",
       "       'text': 'BAR',\n",
       "       'type': 'company'}]}]},\n",
       "  {'document_id': 'a8177a8b4344aa125d9976024eb0c67b',\n",
       "   'enriched_text': [{'entities': [{'path': '.company',\n",
       "       'text': 'BAR',\n",
       "       'type': 'company'}]}]},\n",
       "  {'document_id': 'b87fd51aa9e673c46a3611ae7cb5eb6c',\n",
       "   'enriched_text': [{'entities': [{'path': '.company',\n",
       "       'text': 'bank of america',\n",
       "       'type': 'company'}]}]},\n",
       "  {'document_id': 'b9d31945745b3be931d292ab7f27ba72',\n",
       "   'enriched_text': [{'entities': [{'path': '.company',\n",
       "       'text': 'bank of america',\n",
       "       'type': 'company'}]}]},\n",
       "  {'document_id': 'b5a910b6cc2ad38b4382afa8184ebf58',\n",
       "   'enriched_text': [{'entities': [{'path': '.company',\n",
       "       'text': 'BAR',\n",
       "       'type': 'company'}]}]},\n",
       "  {'document_id': 'af33ff905878cccfa580c041b7da29a2'},\n",
       "  {'document_id': 'a3bd12efa3504f6d11ba3872b98f4f2b'},\n",
       "  {'document_id': 'a2feea7bd682a2af6a3a31d41512f93f'},\n",
       "  {'document_id': 'a258967bdf6ff02c443eb2d8a30a1e00',\n",
       "   'enriched_text': [{'entities': [{'path': '.company',\n",
       "       'text': 'BAR',\n",
       "       'type': 'company'}]}]},\n",
       "  {'document_id': 'a84322b3b65f0d3c45897fd7219fb569',\n",
       "   'enriched_text': [{'entities': [{'path': '.company',\n",
       "       'text': 'BAR',\n",
       "       'type': 'company'}]}]},\n",
       "  {'document_id': 'a7f3abe1d0b7993760e5c5544f0f2e9e',\n",
       "   'enriched_text': [{'entities': [{'path': '.company',\n",
       "       'text': 'bank of america',\n",
       "       'type': 'company'}]}]},\n",
       "  {'document_id': 'b76c3315c76c82c942c4f022b713fd34',\n",
       "   'enriched_text': [{'entities': [{'path': '.company',\n",
       "       'text': 'BAR',\n",
       "       'type': 'company'}]}]},\n",
       "  {'document_id': 'bad36dde3a9f8703d1c3dbd9db3b4bf4',\n",
       "   'enriched_text': [{'entities': [{'path': '.company',\n",
       "       'text': 'BAR',\n",
       "       'type': 'company'}]}]},\n",
       "  {'document_id': 'bb52808532194f756121cd6401f499b6'},\n",
       "  {'document_id': 'e887af8ce7cdd14a60c97f4840ad9f08',\n",
       "   'enriched_text': [{'entities': [{'path': '.company',\n",
       "       'text': 'bank of america',\n",
       "       'type': 'company'}]}]},\n",
       "  {'document_id': 'c6e0d2c899f62ad0ce37025befebc2d6'},\n",
       "  {'document_id': 'e24db01f5ad1f08e631061784bd3ec18',\n",
       "   'enriched_text': [{'entities': [{'path': '.company',\n",
       "       'text': 'BAR',\n",
       "       'type': 'company'}]}]},\n",
       "  {'document_id': 'e4d958190f8e5919a5bb191303c9851e',\n",
       "   'enriched_text': [{'entities': [{'path': '.company',\n",
       "       'text': 'bank of america',\n",
       "       'type': 'company'}]}]},\n",
       "  {'document_id': 'bb7f6ba342a33cbbde9cd96d8302e4b7',\n",
       "   'enriched_text': [{'entities': [{'path': '.company',\n",
       "       'text': 'bank of america',\n",
       "       'type': 'company'}]}]},\n",
       "  {'document_id': 'c24f5badd7c63776ad2bcb57df994c2c',\n",
       "   'enriched_text': [{'entities': [{'path': '.company',\n",
       "       'text': 'bank of america',\n",
       "       'type': 'company'}]}]},\n",
       "  {'document_id': 'c10fd54e3e2de9e2d6d4b410e6efcf06'},\n",
       "  {'document_id': 'c80bc5b6191f35cddca7cf95b9536cae'},\n",
       "  {'document_id': 'dc0caf91c9782506c750e58cbf04374a'},\n",
       "  {'document_id': 'e6aa27b282ebc111ebc65c187c42d4f0',\n",
       "   'enriched_text': [{'entities': [{'path': '.company',\n",
       "       'text': 'bank of america',\n",
       "       'type': 'company'}]}]},\n",
       "  {'document_id': 'e4d8ec7387ea45a3c6635b8c9ae574a8'},\n",
       "  {'document_id': 'bac49dce63c8e38af0676bb7c82d63d2'},\n",
       "  {'document_id': 'e810486877b8cba9a1404b66b2fb9c39',\n",
       "   'enriched_text': [{'entities': [{'path': '.company',\n",
       "       'text': 'BAR',\n",
       "       'type': 'company'}]}]},\n",
       "  {'document_id': 'eccfb1e13d895bce19e2e501732c59b9'},\n",
       "  {'document_id': 'f7ebc8c3e254d051f17ac5871a3da23c',\n",
       "   'enriched_text': [{'entities': [{'path': '.company',\n",
       "       'text': 'BAR',\n",
       "       'type': 'company'}]}]},\n",
       "  {'document_id': 'ea57e0abc2419d832f42195aa3e8374f'},\n",
       "  {'document_id': 'fab9be238582f13ee11017994dd20892',\n",
       "   'enriched_text': [{'entities': [{'path': '.company',\n",
       "       'text': 'bank of america',\n",
       "       'type': 'company'}]}]},\n",
       "  {'document_id': 'fb722fee1ca56be83de98d3194058711'},\n",
       "  {'document_id': 'fd3097f8880f9dd3867188107e8c0455',\n",
       "   'enriched_text': [{'entities': [{'path': '.company',\n",
       "       'text': 'BAR',\n",
       "       'type': 'company'}]}]}]}"
      ]
     },
     "execution_count": 20,
     "metadata": {},
     "output_type": "execute_result"
    }
   ],
   "source": [
    "query_results"
   ]
  },
  {
   "cell_type": "markdown",
   "metadata": {},
   "source": [
    "## 3. Allocate emails"
   ]
  },
  {
   "cell_type": "markdown",
   "metadata": {},
   "source": [
    "Let's assume Peter is responsible for trades related with BOA and Mary is responsible for Barclay."
   ]
  },
  {
   "cell_type": "code",
   "execution_count": 21,
   "metadata": {},
   "outputs": [],
   "source": [
    "def email_allocate(company_lst):\n",
    "    eml_lst = []\n",
    "    for doc in query_results['results']:\n",
    "        try:\n",
    "            enrichment = doc['enriched_text']\n",
    "            for entity in enrichment[0]['entities']:\n",
    "                if entity['text'].replace(u'\\ufeff', '') in company_lst:\n",
    "                    eml_lst.append(doc['document_id'])\n",
    "                    break\n",
    "        except:\n",
    "            continue\n",
    "    return eml_lst"
   ]
  },
  {
   "cell_type": "code",
   "execution_count": 22,
   "metadata": {},
   "outputs": [],
   "source": [
    "peter_company_lst = ['bank of america', 'boa', 'bofa', 'bac']\n",
    "mary_company_lst = ['BAR', 'barclay']\n",
    "peter_eml_lst = email_allocate(peter_company_lst)\n",
    "mary_eml_lst = email_allocate(mary_company_lst)"
   ]
  },
  {
   "cell_type": "code",
   "execution_count": 23,
   "metadata": {},
   "outputs": [
    {
     "data": {
      "text/plain": [
       "['0f321004adf3484648f4e9a2d79498da',\n",
       " '0ea8afd89fe1223afd5e0fec644a78dc',\n",
       " '371aa13a8a6f9d80acd5461a4c18f67b',\n",
       " '26a0f934b57a4cd2a22c6293149528cb',\n",
       " '5ac41c9c46d11f36401224e0bd848122',\n",
       " '3cb44fb0dbbd2dc7ad55ea988dc345c4',\n",
       " '6fa06f718dda3db93a5f1fba159685dd',\n",
       " '6c907f935edfbc3c087abc40f6c058a5',\n",
       " '69d69ce3ab13471a2bb24eb371878ea9',\n",
       " '8feea8225c53ceb73f1d4b1a0c336bc9',\n",
       " '8f665763d974813865a6896176c9e8ac',\n",
       " '7b73c9be878bfa640f9a3894025aa859',\n",
       " '96fc5c2dde545651f4f4cc3655b2946c',\n",
       " 'b87fd51aa9e673c46a3611ae7cb5eb6c',\n",
       " 'b9d31945745b3be931d292ab7f27ba72',\n",
       " 'a7f3abe1d0b7993760e5c5544f0f2e9e',\n",
       " 'e887af8ce7cdd14a60c97f4840ad9f08',\n",
       " 'e4d958190f8e5919a5bb191303c9851e',\n",
       " 'bb7f6ba342a33cbbde9cd96d8302e4b7',\n",
       " 'c24f5badd7c63776ad2bcb57df994c2c',\n",
       " 'e6aa27b282ebc111ebc65c187c42d4f0',\n",
       " 'fab9be238582f13ee11017994dd20892']"
      ]
     },
     "execution_count": 23,
     "metadata": {},
     "output_type": "execute_result"
    }
   ],
   "source": [
    "peter_eml_lst"
   ]
  },
  {
   "cell_type": "code",
   "execution_count": 24,
   "metadata": {},
   "outputs": [
    {
     "data": {
      "text/plain": [
       "['074208ef9f5d8b1321a7c3661713547d',\n",
       " '0579459bd33d051a8b9d0dede2fbb1f7',\n",
       " '1a4b7d17b4450ff5a72cdb18704cdd70',\n",
       " '085078ddab33f3e63c539e7182348c9a',\n",
       " '1d768ca939665afb8b46daac49504ac7',\n",
       " '2cc58e75bf60c785e0e1f2e960f675f8',\n",
       " '37b3d13f98bdf449f41163e02eee12fc',\n",
       " '390d62751561656bbd12b60f993bd0fb',\n",
       " '244dfd6171cad6c7616e88ec0df7ec09',\n",
       " '587f128064d94533715560371f4fd9c7',\n",
       " '647e22774059de1d0401c842eccdaa5f',\n",
       " '432aea026f57582c8c25b85d7364c446',\n",
       " '518a55e8f736d819cc42c1c4dbcea2e9',\n",
       " '3aa432949cafaa40397e957a3e083363',\n",
       " '4e1324b3209c26c7763fd9ef0e4e53ba',\n",
       " '6970b083210dfb298fefad92438482bc',\n",
       " '7613e91132a275e912800bc659a79f54',\n",
       " '7f15c8f5fb3be5bed0b9f1e9c6ca52f4',\n",
       " '7177c26f54b305350b462aeb31bab6ff',\n",
       " '77c972b7f5dec69f694fe267a0977927',\n",
       " '85e0d7539a7a69f8a2f38efb03fc56e2',\n",
       " '7a7cbd22e4fc0638c86be706dd89e1e8',\n",
       " '82f85116f7e6f3df0640d9d299382523',\n",
       " 'a5261e97c34cba225daa9ab64976b698',\n",
       " 'a8177a8b4344aa125d9976024eb0c67b',\n",
       " 'b5a910b6cc2ad38b4382afa8184ebf58',\n",
       " 'a258967bdf6ff02c443eb2d8a30a1e00',\n",
       " 'a84322b3b65f0d3c45897fd7219fb569',\n",
       " 'b76c3315c76c82c942c4f022b713fd34',\n",
       " 'bad36dde3a9f8703d1c3dbd9db3b4bf4',\n",
       " 'e24db01f5ad1f08e631061784bd3ec18',\n",
       " 'e810486877b8cba9a1404b66b2fb9c39',\n",
       " 'f7ebc8c3e254d051f17ac5871a3da23c',\n",
       " 'fd3097f8880f9dd3867188107e8c0455']"
      ]
     },
     "execution_count": 24,
     "metadata": {},
     "output_type": "execute_result"
    }
   ],
   "source": [
    "mary_eml_lst"
   ]
  }
 ],
 "metadata": {
  "kernelspec": {
   "display_name": "Python3.6",
   "language": "python",
   "name": "python3"
  },
  "language_info": {
   "codemirror_mode": {
    "name": "ipython",
    "version": 3
   },
   "file_extension": ".py",
   "mimetype": "text/x-python",
   "name": "python",
   "nbconvert_exporter": "python",
   "pygments_lexer": "ipython3",
   "version": "3.6.7"
  }
 },
 "nbformat": 4,
 "nbformat_minor": 2
}
